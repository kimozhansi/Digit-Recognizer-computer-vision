{
 "cells": [
  {
   "cell_type": "markdown",
   "id": "d61a5340",
   "metadata": {},
   "source": [
    "<div dir=\"rtl\" align=\"center\"><h3>ابتدا کتابخانه های مورد نیاز را import میکنیم</h3></div>"
   ]
  },
  {
   "cell_type": "code",
   "execution_count": 2,
   "id": "7340c881",
   "metadata": {},
   "outputs": [],
   "source": [
    "import pandas as pd\n",
    "import numpy as np\n",
    "\n",
    "import matplotlib.pyplot as plt, matplotlib.image as mpimg\n",
    "#from matplotlib.pyplot import fighure, imshow, axis\n",
    "%matplotlib inline\n",
    "\n",
    "from sklearn.model_selection import train_test_split\n",
    "from sklearn import svm"
   ]
  },
  {
   "cell_type": "markdown",
   "id": "fdab27e9",
   "metadata": {},
   "source": [
    "<div dir=\"rtl\" align=\"center\">\n",
    "    <h3>در این مرحله داده های دارای برچسب را از فایل csv میخوانیم</h3>\n",
    "</div>\n",
    "<div dir=\"rtl\" align=\"right\">\n",
    "    <h4>این فایل شامل اطلاعات 42هزار تصویر از اعداد تک رقمی است</h4>\n",
    "    <h4>هر تصویر دارای ابعاد 28 در 28 پیکسل است که به صورت یک آرایه یک بعدی 784 ستونه در فایل train.scv نوشته شده است. ضمنا ستون اول در این فایل برچسب مربوط به آن تصویر می باشد که عدد نوشته شده در تصویر را نشان می دهد</h4>\n",
    "</div>"
   ]
  },
  {
   "cell_type": "code",
   "execution_count": 4,
   "id": "30f4dcd2",
   "metadata": {},
   "outputs": [
    {
     "data": {
      "text/plain": [
       "(42000, 785)"
      ]
     },
     "execution_count": 4,
     "metadata": {},
     "output_type": "execute_result"
    }
   ],
   "source": [
    "dg = pd.read_csv('train.csv')\n",
    "dg.shape"
   ]
  },
  {
   "cell_type": "markdown",
   "id": "f08e383c",
   "metadata": {},
   "source": [
    "<div dir=\"rtl\" align=\"center\">\n",
    "    <h3>جداسازی داده های آموزش و صحت سنجی</h3>\n",
    "</div>\n",
    "<div dir=\"rtl\" align=\"right\">\n",
    "    <h4>تابع train_test_split از کتابخانه sklearn وظیفه افراز یک دیتاست برچسب دار به دو دیتاست جهت آموزش و صحت سنجی را برعهده دارد</h4>\n",
    "    <h4>تابع فوق با استفاده از پارامتر train_size درصدی از دیتاست که باید برای آموزش درنظر گرفته شود را مشخص می نماید. در عبارت زیر 80% از داده ها به آموزش و 20% باقیمانده آنها برای صحت سنجی به کار برده شده است</h4>\n",
    "</div>"
   ]
  },
  {
   "cell_type": "code",
   "execution_count": 9,
   "id": "1cdc2e28",
   "metadata": {},
   "outputs": [],
   "source": [
    "train_img, test_img, train_lbl, test_lbl = train_test_split(dg.iloc[0:5000,1:], dg.iloc[0:5000,:1], train_size=0.8, random_state=0)"
   ]
  },
  {
   "cell_type": "markdown",
   "id": "418a7303",
   "metadata": {},
   "source": [
    "<div dir=\"rtl\" align=\"center\">\n",
    "    <h3>نمایش برخی تصاویر</h3>\n",
    "</div>\n",
    "<div dir=\"rtl\" align=\"right\">\n",
    "    <h4>در این مرحله برای آنکه تصاویر داخل دیتاست را ببینیم، با استفاده از تابع imshow از کتابخانه matplotlib ده تصویر اول دیتاست را نمایش داده ایم. برای آنکه این تصاویر به صورت افقی در کنار یکدیگر نمایش داده شوند، از تابع subplots استفاده کرده ایم</h4>\n",
    "    <h4>برای آنکه آرایه یک بعدی اطلاعات پیکسل های تصاویر را به تصویر 28 در 28 تبدیل نماییم، از توابع to_numpy و reshape استفاده کرده ایم</h4>\n",
    "</div>"
   ]
  },
  {
   "cell_type": "code",
   "execution_count": 27,
   "id": "535ea193",
   "metadata": {},
   "outputs": [
    {
     "data": {
      "image/png": "[encoded data removed]",
      "text/plain": [
       "<Figure size 432x288 with 10 Axes>"
      ]
     },
     "metadata": {
      "needs_background": "light"
     },
     "output_type": "display_data"
    }
   ],
   "source": [
    "f,ax=plt.subplots(1,10)\n",
    "for i in range(10):   \n",
    "    ax[i].imshow(train_img.iloc[i].to_numpy().reshape(28,28), cmap='gray')\n",
    "\n",
    "plt.show()"
   ]
  },
  {
   "cell_type": "markdown",
   "id": "b00ef67c",
   "metadata": {},
   "source": [
    "<div dir=\"rtl\" align=\"center\">\n",
    "    <h3>ساخت و آموزش مدل</h3>\n",
    "</div>\n",
    "<div dir=\"rtl\" align=\"right\">\n",
    "    <h4>تابع SVC ماژول svm از کتابخانه sklearn وظیفه classification داده های یک دیتاست را بر عهده دارد. این تابع یک مدل ایجاد می کند که میتوان اطلاعات (در اینجا تصاویر) را به همراه برچسب آنها به تابع fit داده و آموزش مدل را انجام داد</h4>\n",
    "    <h4>نکته آنکه برای سرعت بخشیدن به آموزش و صحت سنجی مدل، در هنگام Split کردن دیتاست تنها 5000تصویر ابتدایی را با استفاده از iloc انتخاب کردیم. لازم به تذکر است که هرچه تعداد داده های آموزش و صحت سنجی بیشتر باشد، دقت مدل بالاتر خواهد رفت</h4>\n",
    "    <h5>دقت شود که تابع ravel مقادیر مربوط به برچسب را به صورت یک آرایه یک بعدی (سطری) درمی آورد</h5>\n",
    "</div>\n",
    "<hr>\n",
    "<div dir=\"rtl\" align=\"center\">\n",
    "    <h3>دقت مدل ایجاد شده کمی بیشتر از 94% است</h3>\n",
    "</div>"
   ]
  },
  {
   "cell_type": "code",
   "execution_count": 11,
   "id": "5332e089",
   "metadata": {},
   "outputs": [
    {
     "data": {
      "text/plain": [
       "0.942"
      ]
     },
     "execution_count": 11,
     "metadata": {},
     "output_type": "execute_result"
    }
   ],
   "source": [
    "clf = svm.SVC()\n",
    "clf.fit(train_img, train_lbl.values.ravel())\n",
    "clf.score(test_img,test_lbl)"
   ]
  },
  {
   "cell_type": "markdown",
   "id": "e7134355",
   "metadata": {},
   "source": [
    "<div dir=\"rtl\" align=\"center\">\n",
    "    <h3>تست مدل</h3>\n",
    "</div>\n",
    "<div dir=\"rtl\" align=\"right\">\n",
    "    <h4>پس از ایجاد و آموزش مدل، با استفاده از بخشی از دیتاست برچسب دار صحت سنجی مدل را انجام می دهیم و چنانچه مدل ایجاد شده از دقت خوبی برخوردار نباشد، باید برخی پارامترهای آنرا تغییر داده و مجددا فرایند آموزش را انجام دهیم. در نهایت بعد از آنکه دقت مدل به حد مطلوب رسید، میتوانیم با استفاده از متد predict مدل خود را بیازماییم</h4>\n",
    "    <h4>در این مرحله دیتاست test.csv را لود می کنیم. برای سرعت بیشتر تنها 1000 تصویر ابتدایی را به تابع predict داده ایم تا نتایج سریعتر بدست آیند. چراکه فایل دیتاست test.csv شامل 28هزار تصویر می باشد!</h4>\n",
    "</div>"
   ]
  },
  {
   "cell_type": "code",
   "execution_count": 40,
   "id": "5cb6ae97",
   "metadata": {},
   "outputs": [],
   "source": [
    "test_data=pd.read_csv('test.csv')\n",
    "results=clf.predict(test_data[0:1000])"
   ]
  },
  {
   "cell_type": "markdown",
   "id": "f92ca7b9",
   "metadata": {},
   "source": [
    "<div dir=\"rtl\" align=\"center\">\n",
    "    <h3>صحت سنجی نتایج</h3>\n",
    "</div>\n",
    "<div dir=\"rtl\" align=\"right\">\n",
    "    <h4>در این مرحله جهت صحت سنجی مدل که روی دیتاست تست اعمال شده است، 10 عدد از برچسب های predict شده را نمایش می دهیم. در سلول زیر برچسب های 105 تا 115 نشان داده شده اند</h4>\n",
    "</div>"
   ]
  },
  {
   "cell_type": "code",
   "execution_count": 48,
   "id": "b8aa3101",
   "metadata": {},
   "outputs": [
    {
     "data": {
      "text/plain": [
       "array([3, 0, 5, 0, 3, 0, 0, 4, 7, 1], dtype=int64)"
      ]
     },
     "execution_count": 48,
     "metadata": {},
     "output_type": "execute_result"
    }
   ],
   "source": [
    "results[105:115]"
   ]
  },
  {
   "cell_type": "markdown",
   "id": "1d0615b8",
   "metadata": {},
   "source": [
    "<div dir=\"rtl\" align=\"right\">\n",
    "    <h4>سپس تصاویر مرتبط با برچسب های بالا (تصاویر سطرهای 105 تا 115 از دیتاست تست) را در یک ردیف افقی نمایش می دهیم</h4>\n",
    "    <h5>همانطور که ملاحظه می شود یکی از این تصاویر (تصویر پنجم) اشتباه تشخیص داده شده است [تصویر عدد 8 را نشان می دهد اما مدل عدد 3 را تشخیص داده است]</h5>\n",
    "</div>"
   ]
  },
  {
   "cell_type": "code",
   "execution_count": 44,
   "id": "d1ec6f63",
   "metadata": {},
   "outputs": [
    {
     "data": {
      "image/png": "[encoded data removed]",
      "text/plain": [
       "<Figure size 432x288 with 10 Axes>"
      ]
     },
     "metadata": {
      "needs_background": "light"
     },
     "output_type": "display_data"
    }
   ],
   "source": [
    "f,ax=plt.subplots(1,10)\n",
    "ind=0\n",
    "for i in range(105,115):\n",
    "    ax[ind].imshow(test_data.iloc[i].to_numpy().reshape(28,28), cmap='gray')\n",
    "    ind+=1\n",
    "    #ax[i].title(train_lbl.iloc[i,0])\n",
    "plt.show()"
   ]
  },
  {
   "cell_type": "markdown",
   "id": "007777b0",
   "metadata": {},
   "source": [
    "<div dir=\"rtl\" align=\"center\">\n",
    "    <h3>درج دیتاست تست در فایل خروجی</h3>\n",
    "</div>\n",
    "<div dir=\"rtl\" align=\"right\">\n",
    "    <h4>در نهایت برای درج دیتاست نهایی در یک فایل خروجی، ابتدا از آرایه یک بعدی برچسب ها (با نام results) که در سلول بالا ساخته شد، یک دیتافریم می سازیم. دیتافریم ساخته شده دارای دو ستون به نام های ImageId و Label است</h4>\n",
    "</div>"
   ]
  },
  {
   "cell_type": "code",
   "execution_count": 50,
   "id": "bfc50c78",
   "metadata": {},
   "outputs": [],
   "source": [
    "df = pd.DataFrame(results)\n",
    "df.index.name='ImageId'\n",
    "df.index+=1\n",
    "df.columns=['Label']\n",
    "df.to_csv('results.csv', header=True)"
   ]
  }
 ],
 "metadata": {
  "kernelspec": {
   "display_name": "Python 3 (ipykernel)",
   "language": "python",
   "name": "python3"
  },
  "language_info": {
   "codemirror_mode": {
    "name": "ipython",
    "version": 3
   },
   "file_extension": ".py",
   "mimetype": "text/x-python",
   "name": "python",
   "nbconvert_exporter": "python",
   "pygments_lexer": "ipython3",
   "version": "3.9.7"
  }
 },
 "nbformat": 4,
 "nbformat_minor": 5
}
